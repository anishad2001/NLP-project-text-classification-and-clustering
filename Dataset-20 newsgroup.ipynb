{
  "metadata": {
    "kernelspec": {
      "language": "python",
      "display_name": "Python 3",
      "name": "python3"
    },
    "language_info": {
      "pygments_lexer": "ipython3",
      "nbconvert_exporter": "python",
      "version": "3.6.4",
      "file_extension": ".py",
      "codemirror_mode": {
        "name": "ipython",
        "version": 3
      },
      "name": "python",
      "mimetype": "text/x-python"
    },
    "kaggle": {
      "accelerator": "none",
      "dataSources": [],
      "dockerImageVersionId": 30042,
      "isInternetEnabled": false,
      "language": "python",
      "sourceType": "notebook",
      "isGpuEnabled": false
    },
    "colab": {
      "provenance": []
    }
  },
  "nbformat_minor": 0,
  "nbformat": 4,
  "cells": [
    {
      "cell_type": "code",
      "source": [
        "from sklearn.datasets import fetch_20newsgroups\n",
        "news_data = fetch_20newsgroups(subset = 'all', random_state=1)"
      ],
      "metadata": {
        "trusted": true,
        "id": "5hGdrQU-Lmol"
      },
      "execution_count": null,
      "outputs": []
    },
    {
      "cell_type": "code",
      "source": [
        "print(news_data.keys())"
      ],
      "metadata": {
        "_uuid": "d629ff2d2480ee46fbb7e2d37f6b5fab8052498a",
        "_cell_guid": "79c7e3d0-c299-4dcb-8224-4455121ee9b0",
        "trusted": true,
        "colab": {
          "base_uri": "https://localhost:8080/"
        },
        "id": "HDjIa4oMLmom",
        "outputId": "be13079b-9f97-49fe-be29-7ccdad5d3b5c"
      },
      "execution_count": null,
      "outputs": [
        {
          "output_type": "stream",
          "name": "stdout",
          "text": [
            "dict_keys(['data', 'filenames', 'target_names', 'target', 'DESCR'])\n"
          ]
        }
      ]
    },
    {
      "cell_type": "markdown",
      "source": [
        "As you can see, there are 20 types of target value, and each target names can be checked in target_names"
      ],
      "metadata": {
        "id": "DJlb13K8Lmom"
      }
    },
    {
      "cell_type": "code",
      "source": [
        "import pandas as pd\n",
        "print('value of target and distribution \\n',pd.Series(news_data.target).value_counts().sort_index())\n",
        "print('name of target \\n', news_data.target_names)"
      ],
      "metadata": {
        "trusted": true,
        "colab": {
          "base_uri": "https://localhost:8080/"
        },
        "id": "-asrmgTCLmon",
        "outputId": "9b4e4d7b-2450-4032-8fa3-5bb720827ddc"
      },
      "execution_count": null,
      "outputs": [
        {
          "output_type": "stream",
          "name": "stdout",
          "text": [
            "value of target and distribution \n",
            " 0     799\n",
            "1     973\n",
            "2     985\n",
            "3     982\n",
            "4     963\n",
            "5     988\n",
            "6     975\n",
            "7     990\n",
            "8     996\n",
            "9     994\n",
            "10    999\n",
            "11    991\n",
            "12    984\n",
            "13    990\n",
            "14    987\n",
            "15    997\n",
            "16    910\n",
            "17    940\n",
            "18    775\n",
            "19    628\n",
            "dtype: int64\n",
            "name of target \n",
            " ['alt.atheism', 'comp.graphics', 'comp.os.ms-windows.misc', 'comp.sys.ibm.pc.hardware', 'comp.sys.mac.hardware', 'comp.windows.x', 'misc.forsale', 'rec.autos', 'rec.motorcycles', 'rec.sport.baseball', 'rec.sport.hockey', 'sci.crypt', 'sci.electronics', 'sci.med', 'sci.space', 'soc.religion.christian', 'talk.politics.guns', 'talk.politics.mideast', 'talk.politics.misc', 'talk.religion.misc']\n"
          ]
        }
      ]
    },
    {
      "cell_type": "markdown",
      "source": [
        "# preprocessing\n",
        "\n",
        "To check the each of data value, print first of the data.\n",
        "\n",
        "You can see that, in the context, it contain variable kinds of data like e-mail adress, title name, writer info, etc. We only want the context of the article, so we have to remove all the other thing."
      ],
      "metadata": {
        "id": "tKCV_aoELmon"
      }
    },
    {
      "cell_type": "code",
      "source": [
        "print(news_data.data[0])"
      ],
      "metadata": {
        "trusted": true,
        "colab": {
          "base_uri": "https://localhost:8080/"
        },
        "id": "NZ9NB0suLmon",
        "outputId": "bfc2e33d-4a15-4521-943f-6505308265f5"
      },
      "execution_count": null,
      "outputs": [
        {
          "output_type": "stream",
          "name": "stdout",
          "text": [
            "From: pharvey@quack.kfu.com (Paul Harvey)\n",
            "Subject: Re: Clarification of personal position\n",
            "Organization: The Duck Pond public unix: +1 408 249 9630, log in as 'guest'.\n",
            "Lines: 26\n",
            "\n",
            "In article <C5rBHt.Fw4@athena.cs.uga.edu> \n",
            "hudson@athena.cs.uga.edu (Paul Hudson Jr) writes:\n",
            ">In article <C5MuIw.AqC@mailer.cc.fsu.edu> \n",
            "dlecoint@garnet.acns.fsu.edu (Darius_Lecointe) writes:\n",
            ">>If it were a sin to violate Sunday no one could\n",
            ">>ever be forgiven for that for Jesus never kept Sunday holy.  He only\n",
            ">>recognized one day of the seven as holy.\n",
            ">Jesus also recognized other holy days, like the Passover.  Acts 15 says \n",
            ">that no more should be layed on the Gentiles than that which is necessary.\n",
            ">The sabbath is not in the list, nor do any of the epistles instruct people\n",
            ">to keep the 7th day, while Christians were living among people who did not\n",
            ">keep the 7th day.  It looks like that would have been a problem.\n",
            ">Instead, we have Scriptures telling us that all days can be esteemed alike\n",
            ">(Romans 14:5) and that no man should judge us in regard to what kind of\n",
            ">food we eat, Jewish holy days we keep, or _in regard to the sabbath. (Col. 2.)\n",
            ">>The\n",
            ">>question is \"On what authority do we proclaim that the requirements of the\n",
            ">>fourth commandment are no longer relevant to modern Christians?\"\n",
            ">I don't think that the Sabbath, or any other command of the law is totally\n",
            ">irrelevant to modern Christians, but what about Collosions 2, where it says\n",
            ">that we are not to be judged in regard to the keeping of the sabbath?\n",
            "\n",
            "Why are you running away from the word of Jesus? Has somebody superseded\n",
            "the word of Jesus? If you don't follow the morality of the Ten\n",
            "Commandments and the Law and the Prophets and the word of Jesus, whose\n",
            "morality do you follow?\n",
            "\n"
          ]
        }
      ]
    },
    {
      "cell_type": "code",
      "source": [
        "\n",
        "\n",
        "#train data\n",
        "train_news = fetch_20newsgroups(subset = 'train',\n",
        "                   remove = ('headers','footers','quotes'),\n",
        "                  random_state = 1)\n",
        "\n",
        "X_train = train_news.data\n",
        "y_train = train_news.target\n",
        "\n",
        "#test data\n",
        "test_news = fetch_20newsgroups(subset = 'test',\n",
        "                   remove = ('headers','footers','quotes'),\n",
        "                  random_state = 1)\n",
        "\n",
        "X_test = test_news.data\n",
        "y_test = test_news.target\n",
        "\n",
        "print('train data : {0}, test data : {1}'.format(len(train_news.data),len(test_news.data)))"
      ],
      "metadata": {
        "trusted": true,
        "colab": {
          "base_uri": "https://localhost:8080/"
        },
        "id": "xo3h-KNSLmoo",
        "outputId": "322ced28-5a0e-42e0-debe-b6b2d7b48443"
      },
      "execution_count": null,
      "outputs": [
        {
          "output_type": "stream",
          "name": "stdout",
          "text": [
            "train data : 11314, test data : 7532\n"
          ]
        }
      ]
    },
    {
      "cell_type": "markdown",
      "source": [
        "# feature vector\n",
        "\n",
        "In this data, we will use Bag of Words model. It is a model that ignore the sequence and put the frequency of word into the feature vector. there are two types of Bag of Words model.\n",
        "\n",
        "* based on count\n",
        "\n",
        "It put just frequency to each word.\n",
        "\n",
        "* based on TF-IDF(Term Frequency - Inverse Document Frequency)\n",
        "\n",
        "It put frequency to each word in each document and give penalty to overall frequently appeared word."
      ],
      "metadata": {
        "id": "9FQlbcSeLmoo"
      }
    },
    {
      "cell_type": "markdown",
      "source": [
        "# count\n",
        "\n",
        "At first, we will use count feature vector and apply to each of logistic regression, linear SVM and naive bayes model. Let's compare the accuracy."
      ],
      "metadata": {
        "id": "OacPMYurLmoo"
      }
    },
    {
      "cell_type": "code",
      "source": [
        "from sklearn.feature_extraction.text import CountVectorizer\n",
        "\n",
        "#feature vector based on count\n",
        "cnt_vect = CountVectorizer()\n",
        "cnt_vect.fit(X_train)\n",
        "X_train_cnt_vect = cnt_vect.transform(X_train)\n",
        "\n",
        "#apply to test data\n",
        "X_test_cnt_vect = cnt_vect.transform(X_test)\n",
        "\n",
        "print('CountVectorizer of train data: ',X_train_cnt_vect.shape )\n",
        "print('it means there are 11314 of context and 101631 of different word in here!')"
      ],
      "metadata": {
        "trusted": true,
        "colab": {
          "base_uri": "https://localhost:8080/"
        },
        "id": "b0fV7rDtLmop",
        "outputId": "22e7dee2-3888-4d42-a409-a4ae54981d23"
      },
      "execution_count": null,
      "outputs": [
        {
          "output_type": "stream",
          "name": "stdout",
          "text": [
            "CountVectorizer of train data:  (11314, 101631)\n",
            "it means there are 11314 of context and 101631 of different word in here!\n"
          ]
        }
      ]
    },
    {
      "cell_type": "code",
      "source": [
        "# apply to logistic regression\n",
        "from sklearn.linear_model import LogisticRegression\n",
        "from sklearn.metrics import accuracy_score\n",
        "\n",
        "lr_clf = LogisticRegression()\n",
        "lr_clf.fit(X_train_cnt_vect,y_train)\n",
        "pred_1 = lr_clf.predict(X_test_cnt_vect)\n",
        "accuracy_score(pred_1,y_test)\n",
        "print('accuracy of logistic : ', accuracy_score(pred_1,y_test))"
      ],
      "metadata": {
        "trusted": true,
        "colab": {
          "base_uri": "https://localhost:8080/"
        },
        "id": "y7kd--aKLmop",
        "outputId": "5535cf4e-0b2e-487e-fca2-f19d00046eb4"
      },
      "execution_count": null,
      "outputs": [
        {
          "output_type": "stream",
          "name": "stdout",
          "text": [
            "accuracy of logistic :  0.6060807222517259\n"
          ]
        },
        {
          "output_type": "stream",
          "name": "stderr",
          "text": [
            "/usr/local/lib/python3.10/dist-packages/sklearn/linear_model/_logistic.py:458: ConvergenceWarning: lbfgs failed to converge (status=1):\n",
            "STOP: TOTAL NO. of ITERATIONS REACHED LIMIT.\n",
            "\n",
            "Increase the number of iterations (max_iter) or scale the data as shown in:\n",
            "    https://scikit-learn.org/stable/modules/preprocessing.html\n",
            "Please also refer to the documentation for alternative solver options:\n",
            "    https://scikit-learn.org/stable/modules/linear_model.html#logistic-regression\n",
            "  n_iter_i = _check_optimize_result(\n"
          ]
        }
      ]
    },
    {
      "cell_type": "code",
      "source": [
        "# apply linear SVM\n",
        "from sklearn.svm import LinearSVC\n",
        "\n",
        "ls_clf = LinearSVC()\n",
        "ls_clf.fit(X_train_cnt_vect,y_train)\n",
        "pred_2 = ls_clf.predict(X_test_cnt_vect)\n",
        "print('accuracy of linear SVM : ', accuracy_score(pred_2,y_test))"
      ],
      "metadata": {
        "trusted": true,
        "colab": {
          "base_uri": "https://localhost:8080/"
        },
        "id": "hoQjvRAfLmop",
        "outputId": "98651b8b-69b7-4cb0-f3b2-b3cfa9dea79b"
      },
      "execution_count": null,
      "outputs": [
        {
          "output_type": "stream",
          "name": "stdout",
          "text": [
            "accuracy of linear SVM :  0.571959638874137\n"
          ]
        },
        {
          "output_type": "stream",
          "name": "stderr",
          "text": [
            "/usr/local/lib/python3.10/dist-packages/sklearn/svm/_base.py:1244: ConvergenceWarning: Liblinear failed to converge, increase the number of iterations.\n",
            "  warnings.warn(\n"
          ]
        }
      ]
    },
    {
      "cell_type": "code",
      "source": [
        "# apply naive bayes\n",
        "from sklearn.naive_bayes import BernoulliNB\n",
        "\n",
        "nb_clf = BernoulliNB()\n",
        "nb_clf.fit(X_train_cnt_vect,y_train)\n",
        "pred_3 = nb_clf.predict(X_test_cnt_vect)\n",
        "print('accuracy of naive bayes : ', accuracy_score(pred_3,y_test))"
      ],
      "metadata": {
        "trusted": true,
        "colab": {
          "base_uri": "https://localhost:8080/"
        },
        "id": "4EAhITiVLmop",
        "outputId": "0e08cb86-76fd-497a-92f0-b323b11c3a71"
      },
      "execution_count": null,
      "outputs": [
        {
          "output_type": "stream",
          "name": "stdout",
          "text": [
            "accuracy of naive bayes :  0.4579129049389272\n"
          ]
        }
      ]
    },
    {
      "cell_type": "markdown",
      "source": [
        "# TF-IDF\n",
        "\n",
        "At second, we will use TF-IDF feature vector and apply to each of logistic regression, linear SVM and naive bayes model. Let's compare the accuracy."
      ],
      "metadata": {
        "id": "bu4Ebk12Lmoq"
      }
    },
    {
      "cell_type": "code",
      "source": [
        "from sklearn.feature_extraction.text import TfidfVectorizer\n",
        "\n",
        "#feature vector based on count\n",
        "tfidf_vect = TfidfVectorizer()\n",
        "tfidf_vect.fit(X_train)\n",
        "X_train_tfidf_vect = tfidf_vect.transform(X_train)\n",
        "\n",
        "#apply to test data\n",
        "X_test_tfidf_vect = tfidf_vect.transform(X_test)"
      ],
      "metadata": {
        "trusted": true,
        "id": "6nDnryEOLmoq"
      },
      "execution_count": null,
      "outputs": []
    },
    {
      "cell_type": "code",
      "source": [
        "# apply to logistic regression\n",
        "\n",
        "lr_clf = LogisticRegression()\n",
        "lr_clf.fit(X_train_tfidf_vect,y_train)\n",
        "pred_4 = lr_clf.predict(X_test_tfidf_vect)\n",
        "print('accuracy of logistic : ', accuracy_score(pred_4,y_test))"
      ],
      "metadata": {
        "trusted": true,
        "colab": {
          "base_uri": "https://localhost:8080/"
        },
        "id": "jkOpIQ3bLmoq",
        "outputId": "650f05df-3ffa-45cd-9d76-c3227c4257eb"
      },
      "execution_count": null,
      "outputs": [
        {
          "output_type": "stream",
          "name": "stdout",
          "text": [
            "accuracy of logistic :  0.6736590546999469\n"
          ]
        }
      ]
    },
    {
      "cell_type": "code",
      "source": [
        "# apply linear SVM\n",
        "\n",
        "ls_clf = LinearSVC()\n",
        "ls_clf.fit(X_train_tfidf_vect,y_train)\n",
        "pred_5 = ls_clf.predict(X_test_tfidf_vect)\n",
        "print('accuracy of linear SVM : ', accuracy_score(pred_5,y_test))"
      ],
      "metadata": {
        "trusted": true,
        "colab": {
          "base_uri": "https://localhost:8080/"
        },
        "id": "IC9g39HqLmoq",
        "outputId": "b2a28c23-2e52-4069-965b-31b9c396e89f"
      },
      "execution_count": null,
      "outputs": [
        {
          "output_type": "stream",
          "name": "stdout",
          "text": [
            "accuracy of linear SVM :  0.6919808815719597\n"
          ]
        }
      ]
    },
    {
      "cell_type": "code",
      "source": [
        "# apply naive bayes\n",
        "\n",
        "nb_clf = BernoulliNB()\n",
        "nb_clf.fit(X_train_tfidf_vect,y_train)\n",
        "pred_6 = nb_clf.predict(X_test_tfidf_vect)\n",
        "print('accuracy of naive bayes : ', accuracy_score(pred_6,y_test))"
      ],
      "metadata": {
        "trusted": true,
        "colab": {
          "base_uri": "https://localhost:8080/"
        },
        "id": "bKH0BlTcLmoq",
        "outputId": "23eb748f-d330-4621-dec5-e6eafd22d271"
      },
      "execution_count": null,
      "outputs": [
        {
          "output_type": "stream",
          "name": "stdout",
          "text": [
            "accuracy of naive bayes :  0.4579129049389272\n"
          ]
        }
      ]
    },
    {
      "cell_type": "markdown",
      "source": [
        "# TF-IDF with hyperparameter\n",
        "\n",
        "At last, we will use TF-IDF feature vector and assign some hyperparameter to this stuff. Let's compare the accuracy."
      ],
      "metadata": {
        "id": "r5_bJvipLmoq"
      }
    },
    {
      "cell_type": "code",
      "source": [
        "from sklearn.feature_extraction.text import TfidfVectorizer\n",
        "\n",
        "#feature vector based on TF-IDF with parameter\n",
        "tfidf_vect_p = TfidfVectorizer(stop_words='english', ngram_range=(1,2),max_df=300)\n",
        "tfidf_vect_p.fit(X_train)\n",
        "X_train_tfidf_vect = tfidf_vect_p.transform(X_train)\n",
        "\n",
        "#apply to test data\n",
        "X_test_tfidf_vect = tfidf_vect_p.transform(X_test)"
      ],
      "metadata": {
        "trusted": true,
        "id": "2YcaDfJbLmoq"
      },
      "execution_count": null,
      "outputs": []
    },
    {
      "cell_type": "code",
      "source": [
        "# apply to logistic regression\n",
        "\n",
        "lr_clf = LogisticRegression()\n",
        "lr_clf.fit(X_train_tfidf_vect,y_train)\n",
        "pred_7 = lr_clf.predict(X_test_tfidf_vect)\n",
        "print('accuracy of logistic : ', accuracy_score(pred_7,y_test))"
      ],
      "metadata": {
        "trusted": true,
        "colab": {
          "base_uri": "https://localhost:8080/"
        },
        "id": "R16dnmVHLmoq",
        "outputId": "423c5e23-b0e7-492d-b6ce-79f530986f05"
      },
      "execution_count": null,
      "outputs": [
        {
          "output_type": "stream",
          "name": "stdout",
          "text": [
            "accuracy of logistic :  0.6922464152947424\n"
          ]
        }
      ]
    },
    {
      "cell_type": "code",
      "source": [
        "# apply linear SVM\n",
        "\n",
        "ls_clf = LinearSVC()\n",
        "ls_clf.fit(X_train_tfidf_vect,y_train)\n",
        "pred_8 = ls_clf.predict(X_test_tfidf_vect)\n",
        "print('accuracy of linear SVM : ', accuracy_score(pred_8,y_test))"
      ],
      "metadata": {
        "trusted": true,
        "colab": {
          "base_uri": "https://localhost:8080/"
        },
        "id": "FYiHZ06sLmor",
        "outputId": "d6ff8faf-85ff-4644-bcd8-8fd62ddebba8"
      },
      "execution_count": null,
      "outputs": [
        {
          "output_type": "stream",
          "name": "stdout",
          "text": [
            "accuracy of linear SVM :  0.7060541688794477\n"
          ]
        }
      ]
    },
    {
      "cell_type": "code",
      "source": [
        "# apply naive bayes\n",
        "\n",
        "nb_clf = BernoulliNB()\n",
        "nb_clf.fit(X_train_tfidf_vect,y_train)\n",
        "pred_9 = nb_clf.predict(X_test_tfidf_vect)\n",
        "print('accuracy of naive bayes : ', accuracy_score(pred_9,y_test))"
      ],
      "metadata": {
        "trusted": true,
        "colab": {
          "base_uri": "https://localhost:8080/"
        },
        "id": "n1g6rq3ZLmor",
        "outputId": "85fbd868-d6b5-4731-9171-4e71a417a788"
      },
      "execution_count": null,
      "outputs": [
        {
          "output_type": "stream",
          "name": "stdout",
          "text": [
            "accuracy of naive bayes :  0.20061072756240042\n"
          ]
        }
      ]
    },
    {
      "cell_type": "markdown",
      "source": [
        "# conclusion\n",
        "\n",
        "Among the 9 model, the model that apply TF-IDF with parameter and linear SVM model is most accurate !"
      ],
      "metadata": {
        "id": "KMvafzJLLmor"
      }
    },
    {
      "cell_type": "code",
      "source": [
        "print('\\t\\t','logistic\\t','SVM\\t\\t','naive bayes')\n",
        "print('-'*80)\n",
        "print('count \\t\\t','0.6068\\t\\t','0.5720\\t\\t','0.4579')\n",
        "print('TF-IDF \\t\\t','0.6736\\t\\t','0.6919\\t\\t','0.4579')\n",
        "print('TF-IDF\\t\\t','0.6922\\t\\t','0.7060\\t\\t','0.2006')\n"
      ],
      "metadata": {
        "trusted": true,
        "colab": {
          "base_uri": "https://localhost:8080/"
        },
        "id": "iys6IFPwLmor",
        "outputId": "53aefeef-19db-4b0a-895d-9b365f4d761c"
      },
      "execution_count": null,
      "outputs": [
        {
          "output_type": "stream",
          "name": "stdout",
          "text": [
            "\t\t logistic\t SVM\t\t naive bayes\n",
            "--------------------------------------------------------------------------------\n",
            "count \t\t 0.6068\t\t 0.5720\t\t 0.4579\n",
            "TF-IDF \t\t 0.6736\t\t 0.6919\t\t 0.4579\n",
            "TF-IDF\t\t 0.6922\t\t 0.7060\t\t 0.2006\n"
          ]
        }
      ]
    },
    {
      "cell_type": "code",
      "source": [],
      "metadata": {
        "trusted": true,
        "id": "3ae17-YKLmor"
      },
      "execution_count": null,
      "outputs": []
    }
  ]
}